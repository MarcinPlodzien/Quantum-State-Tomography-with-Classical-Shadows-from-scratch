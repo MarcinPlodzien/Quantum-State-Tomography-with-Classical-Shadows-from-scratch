{
 "cells": [
  {
   "cell_type": "markdown",
   "id": "b96467a7",
   "metadata": {},
   "source": [
    "author: Marcin Płodzień \n",
    "\n",
    "e-mail: marcin.plodzien@icfo.eu; mplodzien@gmail.com\n",
    "\n",
    "www: https://github.com/MarcinPlodzien, https://sites.google.com/site/marcinplodzienphysics/"
   ]
  },
  {
   "cell_type": "markdown",
   "id": "f3398f8e",
   "metadata": {},
   "source": [
    "# Quantum State Tomography with Classical Shadows. Implementation from Scratch\n",
    "\n",
    "In this notebook, we introduce the problem of reconstucting quantum state from measurement, known as Quantum State Tomography (QST), and we briefly describe the state-of-the-art QST protocol known as Classical Shadows, introduced by Hsin-Yuan Huang, Richard Kueng, John Preskill [[1]](https://www.nature.com/articles/s41567-020-0932-7).\n",
    "\n",
    "Finally, we present the implementation of classical shadows QST from scratch with in Python (with pytorch).\n",
    "The aim of this notebook is to give a hands-on experience with the classical shadows protocol for QST."
   ]
  },
  {
   "cell_type": "markdown",
   "id": "06016951",
   "metadata": {},
   "source": [
    "## 1. Quantum State Tomography\n",
    "\n",
    "Quantum state tomography (QST) lies at the heart of quantum information theory, serving as a fundamental tool for characterizing and understanding quantum systems. \n",
    "\n",
    "QST is a crucial technique for characterizing and reconstructing quantum states by performing projective measurements on an informationally complete basis. However, the complexity of state reconstruction grows exponentially with the number of system constituents, such as spins or qubits. With the growing number of qubits in current quantum technologies, scalable QST schemes are in high demand. Various QST methods have been proposed to address this issue, such as QST for sparse quantum states by [compressive sensing](https://journals.aps.org/prl/abstract/10.1103/PhysRevLett.105.150401), or for [permutationally invariant quantum states](https://journals.aps.org/prl/abstract/10.1103/PhysRevLett.105.250403). However, the exponential growth of the required measurements in the abovementioned method makes them impractical for a more significant number of qubits.  \n",
    "\n",
    "To overcome the scaling concerns, the [classical shadows technique](https://www.nature.com/articles/s41567-020-0932-7) has been proposed. This method uses a \"shadow\" observables set to obtain an approximate density matrix that matches the exact density matrix within some error bound, significantly reducing the number of measurements required for QST and providing an efficient way for reconstructing density matrices for large quantum systems. By using this technique, one can obtain an approximate density matrix with much fewer measurements than required by standard QST methods.\n",
    "\n",
    "Side comment:\n",
    "In the Noisy Intermediate-Scale Quantum (NISQ) era devices, the problem of density matrix reconstruction can be tackled in the language of [low-depth Variational Quantum Circuits (VQC) ansatzes](https://journals.aps.org/pra/abstract/10.1103/PhysRevA.101.052316). With the help of classical machine learning optimization techniques, an optimal set of quantum circuit parameters can be found to maximize the fidelity of the VQC with the target highly-entangled quantum state. As a result, a many-body Bell-correlated state can be stored within a quantum gates data structure. While the number of parameters of such a circuit grows polynomially with the number of qubits, only a  polynomial number of measurements for quantum state tomography is required."
   ]
  },
  {
   "cell_type": "markdown",
   "id": "6c07323e",
   "metadata": {},
   "source": [
    "## 2. Classical Shadows with randomized measurements protocol\n",
    "We consider the chain of $N$ spins-$1/2$ described by a density matrix  $\\hat{\\varrho}$ decomposed in the computational basis\n",
    "\\begin{equation}\n",
    "\\{|\\vec{s}\\rangle\\}= \\{ |s_1, s_2,s_3,\\dots,s_N\\rangle\\} = \\{ \\bigotimes_{j=1}^{N}|s_j\\rangle\\} \\}$, \n",
    "\\end{equation}\n",
    "with $s_j = \\pm 1$.\n",
    "\n",
    "Classical shadows tomography aims to reconstruct the target quantum state $\\hat{\\varrho}$ based on $M$ measurements prepared on its identical copies. In each $m$-th measurement, a random unitary \n",
    "$\\hat{U}_{m} = \\bigotimes_{j = 1}^{N}\\hat{u}_j^{(m)}$ is applied to the target state \n",
    "\\begin{equation}\n",
    "    \\hat{\\varrho}_{m} = \\hat{U}_{m}\\hat{\\varrho}\\hat{U}_m^\\dagger,\n",
    "\\end{equation}\n",
    "where $\\hat{u}^{(m)}_j$ are random operators chosen from some ensemble ${\\cal U}$. Next, after the projective measurement in a computational basis\n",
    "we obtain a bit-string $\\{s_1^{(m)},\\dots,s_N^{(m)}\\}$ and construct the classical shadow of the initial state as\n",
    "\\begin{equation}\n",
    "    \\hat{\\rho}_{m}  = {\\cal M}^{-1}\\bigg[\\bigotimes_{j=1}^{N} \\hat{u}_j^{(m)\\dagger} |s_j^{(m)}\\rangle\\langle s_j^{(m)}|\\hat{u}_j^{(m)}\\bigg],\n",
    "\\end{equation}\n",
    "where the inverse map ${\\cal M}^{-1}$ is determined by ${\\cal U}$ [[1]](https://www.nature.com/articles/s41567-020-0932-7). \n",
    "\n",
    "Here, we assume ${\\cal U}$ to be a Pauli measurements group (group of matrices which are transformation to eigenbasis of the operators $X,Y,Z$ at given spin $j$, i.e. ${\\cal U} = \\{ \\hat{H}, \\hat{H}\\hat{S}^\\dagger, Z \\}$ respectively for $X$, $Y$, and $Z$), for which the inverse map factorizes, \n",
    "${\\cal M}^{-1} = \\bigotimes_{j=1}^{N}{\\cal M}_1^{-1}$, where ${\\cal M}^{-1}_n[\\cdot] = (2^n+1)[\\cdot] - \\mathbb{1}_{2^n}{\\rm Tr}([\\cdot])$, and the $m$-th classical shadow reads  [[1]](https://www.nature.com/articles/s41567-020-0932-7)\n",
    "\\begin{equation}\n",
    "    \\hat{\\rho}_{m} = \\bigotimes_{j=1}^{N} \\big[3 \\hat{u}_j^{(m)\\dagger} |s_j^{(m)}\\rangle\\langle s_j^{(m)}|\\hat{u}_j^{(m)} - \\mathbb{1}_{2}\\big].\n",
    "\\end{equation}\n",
    "After $M$ realizations of classical shadows the reconstructed density matrix $\\hat{\\varrho}^*$ is given by \n",
    "\\begin{equation}\n",
    "    \\hat{\\varrho}^{*} = \\frac{1}{M}\\sum_{m=1}^M\\hat{\\rho}_{m},\n",
    "\\end{equation}\n",
    "\n",
    "In other words, for a $m$-th copy of the target state $\\hat{\\rho}$, each spin in the chain is rotated to eigenbasis of the of the randomly chosen operator $X$, $Y$, or $Z$. Next, the projective measurement is prepared and we collect the resulting bit-string, i.e. vector of ${s_1, s_2, \\ldots, s_L}$, where $s_i = \\pm 1$.\n",
    "Next, we prepare inverse operation prepared on the each spin indiviudally, i.e. we unrotate it to the initial basis, and in the final step we prepared the $m$-th reconstruction via the inverse map ${\\cal M}^{-1}$ and obtain $\\hat{\\rho}_{m}$. The reconstructed density matrix is given as average over many $\\hat{\\rho}_{m}$ realizations.\n",
    "\n",
    "\n",
    "The power of classical shadows tomography lies in cheap post-processing requiring only $2NM$ numbers, which must be stored in a classical memory, i.e., $M$ instances of information about $N$ randomly chosen operators and accompanying bit strings of length $N$."
   ]
  },
  {
   "cell_type": "markdown",
   "id": "0e1c0f4f",
   "metadata": {},
   "source": [
    "## 3. Implementation"
   ]
  },
  {
   "cell_type": "markdown",
   "id": "82b1ec47",
   "metadata": {},
   "source": [
    "### 3.1 Exact representation of spin-1/2 operators on a 1D chain\n",
    "\n",
    "The starting point is to implement the Pauli spin chain operators on a spin-$1/2$ chain with $L$ spins.\n",
    "The Pauli spin operators $X_i,Y_i,Z_i$ acting on $i$-th spin are defined as:\n",
    "\\begin{equation}\n",
    " \\begin{split}\n",
    " X_i  &= \\mathbb{1}_1\\otimes\\dots\\mathbb{1}_{i-1}\\otimes\\hat{\\sigma}^x\\otimes\\mathbb{1}_{i+1}\\dots\\mathbb{1}_{L},\\\\\n",
    " Y_i  &= \\mathbb{1}_1\\otimes\\dots\\mathbb{1}_{i-1}\\otimes\\hat{\\sigma}^y\\otimes\\mathbb{1}_{i+1}\\dots\\mathbb{1}_{L},\\\\\n",
    " Z_i  &= \\mathbb{1}_1\\otimes\\dots\\mathbb{1}_{i-1}\\otimes\\hat{\\sigma}^z\\otimes\\mathbb{1}_{i+1}\\dots\\mathbb{1}_{L},\n",
    " \\end{split}\n",
    "\\end{equation}\n",
    "where $\\hat{\\sigma}^{x,y,z}$ are $2\\times2$ Pauli operators.\n",
    "\n",
    "In a similar manner we can define Hadamard matrix $H_i$ acting on $i$-th spin, i.e.\n",
    "\\begin{equation}\n",
    "H_i = \\mathbb{1}_1\\otimes\\dots\\mathbb{1}_{i-1}\\otimes H\\otimes\\mathbb{1}_{i+1}\\dots\\mathbb{1}_{L},\n",
    "\\end{equation}\n",
    "where $H = \\frac{\\hat{\\sigma}^x + \\hat{\\sigma}^z}{\\sqrt{2}}$."
   ]
  },
  {
   "cell_type": "code",
   "execution_count": 1,
   "id": "794c112a",
   "metadata": {},
   "outputs": [],
   "source": [
    "from tqdm import tqdm\n",
    "import matplotlib.pyplot as plt\n",
    "import torch as pt\n",
    "from torch import matrix_exp as expm\n",
    "from torch.linalg import eigh as eigh\n",
    "import numpy as np"
   ]
  },
  {
   "cell_type": "code",
   "execution_count": 2,
   "id": "b133c987",
   "metadata": {},
   "outputs": [],
   "source": [
    "id_local = pt.tensor([[1.,0],[0,1.]]) + 0*1j\n",
    "sigma_x = pt.tensor([[0,1.],[1.,0]]) + 0*1j\n",
    "sigma_y = 1j*pt.tensor([[0,-1.],[1.,0]]) + 0*1j\n",
    "sigma_z = pt.tensor([[1.,0],[0,-1.]]) + 0*1j\n",
    "hadamard = 1.0/pt.sqrt(pt.tensor(2))*(sigma_x + sigma_z)+1j*0    \n",
    "s = pt.tensor([[1,0],[0,1j]])+1j*0\n",
    "s_dagger = pt.tensor([[1,0],[0,-1j]])+1j*0\n",
    "\n",
    "M_u = pt.tensor([[1,0],[0,0]]) + 0*1j # projector on spin-up, or |1>\n",
    "M_d = pt.tensor([[0,0],[0,1]]) + 0*1j # projector on spin-down, or |-1>\n",
    "\n",
    "def get_Identity(k):  # returns k-tensor product of the identity operator, ie. Id^k\n",
    "    Id = id_local\n",
    "    for i in range(0, k-1):\n",
    "        Id = pt.kron(Id, id_local)\n",
    "    return Id\n",
    "       \n",
    "def get_chain_operator(A, L, i):\n",
    "    Op = A\n",
    "    if(i == 1):\n",
    "        Op = pt.kron(A,get_Identity(L-1))\n",
    "        return Op\n",
    "    if(i == L):\n",
    "        Op = pt.kron(get_Identity(L-1),A)\n",
    "        return Op\n",
    "    if(i>0 and i<L):\n",
    "        Op = pt.kron(get_Identity(i-1), pt.kron(Op, get_Identity(L-i)))\n",
    "        return Op\n",
    "\n",
    "def get_chain_operators(L):\n",
    "    if(L>1):\n",
    "      Id = get_chain_operator(id_local, L, 1)\n",
    "      X = {}\n",
    "      Y = {}\n",
    "      Z = {}\n",
    "      H = {}\n",
    "      S = {}\n",
    "      S_dagger = {}\n",
    "\n",
    "      for qubit_i in range(1, L+1):    # Loop over indices on a chain\n",
    "          X[qubit_i] = get_chain_operator(sigma_x, L, qubit_i)      \n",
    "          Y[qubit_i] = get_chain_operator(sigma_y, L, qubit_i)      \n",
    "          Z[qubit_i] = get_chain_operator(sigma_z, L, qubit_i)      \n",
    "          H[qubit_i] = get_chain_operator(hadamard, L, qubit_i)\n",
    "          S[qubit_i] = get_chain_operator(s, L, qubit_i)\n",
    "          S_dagger[qubit_i] = get_chain_operator(s_dagger, L, qubit_i)\n",
    "      return Id, X, Y, Z, H, S, S_dagger\n",
    "    else:\n",
    "      return id_local, sigma_x, sigma_y, sigma_z, hadamard, s, s_dagger"
   ]
  },
  {
   "cell_type": "markdown",
   "id": "d61e9468",
   "metadata": {},
   "source": [
    "Operators are expressed in the diagonal basis of the $Z = \\sum_{i=1}^{L} Z_i$ operator\n",
    "\n",
    "\\begin{equation}\n",
    " \\begin{split}\n",
    "   |v_1\\rangle & = |\\uparrow \\uparrow \\dots \\uparrow \\rangle \\\\\n",
    "   |v_2\\rangle & = |\\uparrow \\uparrow \\dots \\downarrow \\rangle \\\\\n",
    "   & \\vdots \\\\\n",
    "   |v_D\\rangle & = |\\downarrow \\downarrow \\dots \\downarrow \\rangle \\\\\n",
    " \\end{split}\n",
    "\\end{equation}\n",
    "\n",
    "\\begin{equation}\n",
    "\\begin{split}\n",
    "   X & = \\sum_{k,l} <v_k|X|v_l>|v_k\\rangle\\langle v_l| \\\\\n",
    "   Y & = \\sum_{k,l} <v_k|Y|v_l>|v_k\\rangle\\langle v_l| \\\\\n",
    "   Z & = \\sum_{k,l} <v_k|Z|v_l>|v_k\\rangle\\langle v_l| \\delta_{k,l},\n",
    "\\end{split}\n",
    "\\end{equation}\n",
    "\n",
    "In the following we denote: $\\uparrow \\equiv 1$, $\\downarrow \\equiv -1$.\n",
    "\n",
    "\n",
    "Let's us construct our spin-$1/2$ chain Hilbert space:"
   ]
  },
  {
   "cell_type": "code",
   "execution_count": 3,
   "id": "cab58a7f",
   "metadata": {},
   "outputs": [
    {
     "name": "stdout",
     "output_type": "stream",
     "text": [
      "Fock basis: \n",
      "|v_000> = | 1  1  1 >\n",
      "|v_001> = | 1  1 -1 >\n",
      "|v_002> = | 1 -1  1 >\n",
      "|v_003> = | 1 -1 -1 >\n",
      "|v_004> = |-1  1  1 >\n",
      "|v_005> = |-1  1 -1 >\n",
      "|v_006> = |-1 -1  1 >\n",
      "|v_007> = |-1 -1 -1 >\n"
     ]
    }
   ],
   "source": [
    "L = 3\n",
    "D = 2**L\n",
    "Id, X, Y, Z, H, S, S_dagger = get_chain_operators(L)\n",
    "\n",
    "def get_spin_basis(L):\n",
    "    D = 2**L\n",
    "    basis = pt.zeros((D,L)) + 0*1j\n",
    "    for v_i in range(0,D):\n",
    "        fock_state = pt.zeros(D) + 0*1j\n",
    "        fock_state[v_i] = 1\n",
    "        for i in range(1,L+1):\n",
    "            tmp = pt.vdot(fock_state, Z[i]@fock_state)\n",
    "            basis[v_i,i-1] = tmp.real\n",
    "    \n",
    "    print(\"Fock basis: \")\n",
    "    for v_i in range(0,D):  \n",
    "        string_fock_vector = \"|v_\" + \"{:03d}\".format(v_i) + \"> = |\"\n",
    "        for i in range(1,L+1):\n",
    "            tmp = int(basis[v_i,i-1].item().real)\n",
    "            if(tmp==1):\n",
    "                string_plus_minus = \" {:1d}\".format(tmp)\n",
    "            if(tmp==-1):\n",
    "                string_plus_minus = \"{:1d}\".format(tmp)\n",
    "                \n",
    "             \n",
    "            string_fock_vector = string_fock_vector + string_plus_minus + \" \"\n",
    "        string_fock_vector = string_fock_vector + \">\"\n",
    "        print(string_fock_vector)\n",
    "    return basis\n",
    "\n",
    "basis = get_spin_basis(L)"
   ]
  },
  {
   "cell_type": "markdown",
   "id": "445f2cf8",
   "metadata": {},
   "source": [
    "Helper functions"
   ]
  },
  {
   "cell_type": "code",
   "execution_count": 27,
   "id": "114faa19",
   "metadata": {},
   "outputs": [],
   "source": [
    "def sqrt_matrix(A):\n",
    "  L, Q = pt.linalg.eig(A)\n",
    "  \n",
    "  return Q @ pt.diag(pt.sqrt(L )) @ pt.linalg.inv(Q)\n",
    "\n",
    "def get_trace_distance(rho, sigma):\n",
    "  tmp = (rho-sigma).conj().T@(rho-sigma)\n",
    "  return 0.5*pt.trace( sqrt_matrix(tmp)).real\n",
    "\n",
    "def print_density_matrix(rho, string_title, print_eigenvalues):\n",
    "  print(\"=\"*40)\n",
    "  print(string_title)\n",
    "  print(\"Norm:   Tr[rho] = {:2.3f}\".format(pt.trace(rho).item().real))\n",
    "  print(\"Purity: Tr[rho^2] = {:2.3f}\".format(pt.trace(rho@rho).item().real))\n",
    "  lambda_i, ket_lambda_i = pt.linalg.eig(rho)\n",
    "  lambda_i = lambda_i.real\n",
    "\n",
    "  string_evals = \"\"\n",
    "  for i in range(0,D):\n",
    "     string_evals = string_evals + \" lambda_\" + \"{:03d}\".format(i) + \"  = {:2.3f}\".format(lambda_i[i].item()) + \"\\n\"\n",
    "  if(print_eigenvalues  == True):\n",
    "     print(\"Eigenvalues :\")\n",
    "  print(string_evals)\n",
    "  \n",
    "  print(\"Real part:\")\n",
    "  string_columns = \"     \"\n",
    "  for i in range(0,D):\n",
    "    string_columns = string_columns + \"      \" + \"|{:03d}\".format(i)+\">\"\n",
    "  print(string_columns)\n",
    "  for i in range(0,D):\n",
    "    string_row = \"|\" + \"{:03d}\".format(i)+\">\"\n",
    "    for j in range(0,D):\n",
    "      string_row = string_row + \"   \" + \"   {:2.3f}\".format(rho[i,j].item().real)\n",
    "    print(string_row)\n",
    "  print(\"\\n\")\n",
    "\n",
    "  print(\"Imaginary part:\")\n",
    "  string_columns = \"     \"\n",
    "  for i in range(0,D):\n",
    "    string_columns = string_columns + \"      \" + \"|{:03d}\".format(i)+\">\"\n",
    "  print(string_columns)\n",
    "  for i in range(0,D):\n",
    "    string_row = \"|\" + \"{:03d}\".format(i)+\">\"\n",
    "    for j in range(0,D):\n",
    "      \n",
    "      string_row = string_row + \"   \" + \"  {: 2.3f}\".format(rho[i,j].item().imag)\n",
    "    print(string_row)\n",
    "  print(\"\\n\")\n",
    "\n",
    "\n",
    "  return"
   ]
  },
  {
   "cell_type": "markdown",
   "id": "d4e65e91",
   "metadata": {},
   "source": [
    "### 3.2 Probing density probability\n",
    "To probe a given discrete density probability $\\vec{p} = \\{p_0, p_1, \\ldots,p_D\\}$, $\\sum_v p_v = 1$, we choose a random number $r \\in [0,1]$, and we find such $v_{\\rm max}$ for which the cumulative probability $p_c = \\sum_{v=1}^{v_{\\rm max}}$ fullfils $p_c < r$  - in such a way, we probe the $v_{\\rm max}$ from a given $\\vec{p}$."
   ]
  },
  {
   "cell_type": "markdown",
   "id": "2d198a8e",
   "metadata": {},
   "source": [
    "### 3.3 Simulating projective measurement on the quantum state $\\hat{\\rho}$\n",
    "\n",
    "In the projective measurement protocol (in the computational basis) the state of the system $\\hat{\\rho}$ colapses to one of its basis vectors, i.e. $\\hat{\\rho} \\to |v\\rangle\\langle v|$, with a probability given by the density probability $\\vec{p} =\\{p_0, p_1, \\ldots, p_D\\} = {\\rm diag}(\\hat{\\rho})$.\n",
    "\n",
    "To simulate collaps of the wave-function to the one of its basis vectors after a projective measurement, we have to implement probing the density probability $\\vec{p}$ of the considered quantum state. We probe basis $|v\\rangle$ given the probability distribution $\\vec{p}$;   $|v\\rangle = |s_1, s_2, \\ldots, s_L\\rangle$, where $s_p = \\pm 1$. We denote $\\vec{s} = \\{s_1,\\ldots,s_L\\}$ as a \"bit-string\"."
   ]
  },
  {
   "cell_type": "code",
   "execution_count": 5,
   "id": "95641e40",
   "metadata": {},
   "outputs": [],
   "source": [
    "def prepare_measurement_global_(rho, verbose = False): #we cast total wave-function onto single Fock vector\n",
    "  r = np.random.rand(1)[0]\n",
    "  p_c = 0 # cumulative probability\n",
    "  for v in range(0,D):                           \n",
    "    p_c = p_c + rho[v,v].real\n",
    "    if(p_c >= r):\n",
    "      break\n",
    "  psi_measured = pt.zeros(D) + 0*1j # projective measurement\n",
    "  psi_measured[v] = 1      \n",
    "  bit_string = basis[v,:]\n",
    "  if verbose:\n",
    "   print(\"== prepare measurement ==\")      \n",
    "   print(\"     Wave-function probability distribution |psi_v|^2: \", pt.diag(rho).real)\n",
    "   print(\"     Probe probability distribution:\")\n",
    "   print(\"     random number: r = \", \"{:2.2f}\".format(r), \" | cummulant probability = \", \"{:2.2f}\".format(cp))\n",
    "   print(\"     wave function collapsed to bit string -> |v=\" + str(v) + \"> = \",bit_string.real)\n",
    "   print(\"     which corresponds to the basis vector:\", psi_measured.real)\n",
    "  return psi_measured, bit_string.real.to(pt.int).tolist()"
   ]
  },
  {
   "cell_type": "code",
   "execution_count": 6,
   "id": "9bd9bcfb",
   "metadata": {},
   "outputs": [],
   "source": [
    "def prepare_QST_classical_shadows_(rho_target, N_shadows, verbose):\n",
    "\n",
    "    rho_shadow_global_measurement = pt.zeros((D,D)) + 0*1j\n",
    "  \n",
    "    for i in tqdm(range(0,N_shadows)):   \n",
    "      U_i = np.random.choice([1,2,3], L, replace=True)\n",
    "    \n",
    "      rho_rotated = rho_target.clone()\n",
    "      for j_spin in range(1,L+1):\n",
    "        if(U_i[j_spin-1] == 1):\n",
    "            U_i_j = H[j_spin]\n",
    "    \n",
    "        if(U_i[j_spin-1] == 2):    \n",
    "            U_i_j = H[j_spin]@S_dagger[j_spin]\n",
    "     \n",
    "        if(U_i[j_spin-1] == 3):\n",
    "            U_i_j = Z[j_spin]      \n",
    "    \n",
    "        rho_rotated = U_i_j@rho_rotated@U_i_j.conj().T\n",
    "\n",
    "      rho_after_measurement, b_i_global_measurement  = prepare_measurement_global_(rho_rotated, verbose)\n",
    "      s_i_global_measurement = pt.tensor([1])\n",
    "     \n",
    "      for j_spin in range(1,L+1):\n",
    "        if(U_i[j_spin-1] == 1):\n",
    "            V_i_j = hadamard\n",
    "     \n",
    "        if(U_i[j_spin-1] == 2):    \n",
    "            V_i_j = hadamard@s_dagger\n",
    "       \n",
    "        if(U_i[j_spin-1] == 3):\n",
    "            V_i_j = sigma_z\n",
    "     \n",
    "        # Inverse channel after global measurement\n",
    "    \n",
    "        if(b_i_global_measurement[j_spin-1] == 1):\n",
    "          rho_j_global_measurement = M_u\n",
    "    \n",
    "        if(b_i_global_measurement[j_spin-1] == -1):\n",
    "          rho_j_global_measurement = M_d\n",
    "    \n",
    "    \n",
    "        s_i_global_measurement =  pt.kron(3*V_i_j.conj().T@rho_j_global_measurement@V_i_j - id_local, s_i_global_measurement)\n",
    "    \n",
    "      rho_shadow_global_measurement = rho_shadow_global_measurement + s_i_global_measurement\n",
    "    \n",
    "    rho_QST  = rho_shadow_global_measurement/N_shadows\n",
    "    return rho_QST"
   ]
  },
  {
   "cell_type": "markdown",
   "id": "8a648ab0",
   "metadata": {},
   "source": [
    "As an example let us consider reconstruction of the quantum system in a $L$ qubit $GHZ$ state, i.e.\n",
    "\n",
    "\\begin{equation}\n",
    "|{\\rm GHZ}\\rangle = \\frac{|0\\ldots0\\rangle + |1\\ldots1\\rangle}{\\sqrt{2}}\n",
    "\\end{equation}"
   ]
  },
  {
   "cell_type": "code",
   "execution_count": 21,
   "id": "638eb229",
   "metadata": {},
   "outputs": [],
   "source": [
    "psi_target =  pt.zeros(D) + 0*1j # GHZ state\n",
    "psi_target[0] = 1\n",
    "psi_target[-1] = 1\n",
    "norm = pt.sum(pt.abs(psi_target)**2)\n",
    "psi_target = psi_target/pt.sqrt(norm)\n",
    "rho_target = pt.outer(psi_target.conj(),psi_target)"
   ]
  },
  {
   "cell_type": "code",
   "execution_count": 29,
   "id": "9adf42c4",
   "metadata": {},
   "outputs": [
    {
     "name": "stderr",
     "output_type": "stream",
     "text": [
      "100%|█████████████████████████████████| 200000/200000 [00:40<00:00, 4911.88it/s]\n"
     ]
    }
   ],
   "source": [
    "rho_qst = prepare_QST_classical_shadows_(rho_target, 200000, verbose = False)"
   ]
  },
  {
   "cell_type": "code",
   "execution_count": 30,
   "id": "6a270950",
   "metadata": {},
   "outputs": [
    {
     "name": "stdout",
     "output_type": "stream",
     "text": [
      "========================================\n",
      "Target density matrix:\n",
      "Norm:   Tr[rho] = 1.000\n",
      "Purity: Tr[rho^2] = 1.000\n",
      "Eigenvalues :\n",
      " lambda_000  = 1.000\n",
      " lambda_001  = -0.000\n",
      " lambda_002  = 0.000\n",
      " lambda_003  = 0.000\n",
      " lambda_004  = 0.000\n",
      " lambda_005  = 0.000\n",
      " lambda_006  = 0.000\n",
      " lambda_007  = 0.000\n",
      "\n",
      "Real part:\n",
      "           |000>      |001>      |002>      |003>      |004>      |005>      |006>      |007>\n",
      "|000>      0.500      0.000      0.000      0.000      0.000      0.000      0.000      0.500\n",
      "|001>      0.000      0.000      0.000      0.000      0.000      0.000      0.000      0.000\n",
      "|002>      0.000      0.000      0.000      0.000      0.000      0.000      0.000      0.000\n",
      "|003>      0.000      0.000      0.000      0.000      0.000      0.000      0.000      0.000\n",
      "|004>      0.000      0.000      0.000      0.000      0.000      0.000      0.000      0.000\n",
      "|005>      0.000      0.000      0.000      0.000      0.000      0.000      0.000      0.000\n",
      "|006>      0.000      0.000      0.000      0.000      0.000      0.000      0.000      0.000\n",
      "|007>      0.500      0.000      0.000      0.000      0.000      0.000      0.000      0.500\n",
      "\n",
      "\n",
      "Imaginary part:\n",
      "           |000>      |001>      |002>      |003>      |004>      |005>      |006>      |007>\n",
      "|000>      0.000      0.000      0.000      0.000      0.000      0.000      0.000      0.000\n",
      "|001>      0.000      0.000      0.000      0.000      0.000      0.000      0.000      0.000\n",
      "|002>      0.000      0.000      0.000      0.000      0.000      0.000      0.000      0.000\n",
      "|003>      0.000      0.000      0.000      0.000      0.000      0.000      0.000      0.000\n",
      "|004>      0.000      0.000      0.000      0.000      0.000      0.000      0.000      0.000\n",
      "|005>      0.000      0.000      0.000      0.000      0.000      0.000      0.000      0.000\n",
      "|006>      0.000      0.000      0.000      0.000      0.000      0.000      0.000      0.000\n",
      "|007>      0.000      0.000      0.000      0.000      0.000      0.000      0.000      0.000\n",
      "\n",
      "\n",
      "========================================\n",
      "Reconstructed density matrix:\n",
      "Norm:   Tr[rho] = 1.000\n",
      "Purity: Tr[rho^2] = 0.997\n",
      "Eigenvalues :\n",
      " lambda_000  = 0.998\n",
      " lambda_001  = -0.013\n",
      " lambda_002  = 0.012\n",
      " lambda_003  = -0.006\n",
      " lambda_004  = -0.003\n",
      " lambda_005  = 0.007\n",
      " lambda_006  = 0.003\n",
      " lambda_007  = 0.002\n",
      "\n",
      "Real part:\n",
      "           |000>      |001>      |002>      |003>      |004>      |005>      |006>      |007>\n",
      "|000>      0.500      -0.001      0.000      -0.003      -0.001      -0.002      -0.002      0.501\n",
      "|001>      -0.001      -0.003      -0.002      0.000      0.003      0.002      0.000      0.001\n",
      "|002>      0.000      -0.002      0.000      0.001      -0.007      0.002      0.001      0.000\n",
      "|003>      -0.003      0.000      0.001      0.003      0.002      0.002      0.000      -0.004\n",
      "|004>      -0.001      0.003      -0.007      0.002      -0.002      0.001      0.000      -0.000\n",
      "|005>      -0.002      0.002      0.002      0.002      0.001      0.005      0.000      -0.003\n",
      "|006>      -0.002      0.000      0.001      0.000      0.000      0.000      0.004      0.001\n",
      "|007>      0.501      0.001      0.000      -0.004      -0.000      -0.003      0.001      0.494\n",
      "\n",
      "\n",
      "Imaginary part:\n",
      "           |000>      |001>      |002>      |003>      |004>      |005>      |006>      |007>\n",
      "|000>      0.000     -0.000      0.003      0.001      0.001      0.002     -0.002      0.004\n",
      "|001>      0.000      0.000      0.001     -0.001     -0.003      0.000      0.003     -0.001\n",
      "|002>     -0.003     -0.001      0.000      0.001     -0.002      0.001     -0.001      0.001\n",
      "|003>     -0.001      0.001     -0.001      0.000     -0.005      0.001      0.003      0.000\n",
      "|004>     -0.001      0.003      0.002      0.005      0.000      0.001     -0.005      0.001\n",
      "|005>     -0.002     -0.000     -0.001     -0.001     -0.001      0.000      0.003      0.000\n",
      "|006>      0.002     -0.003      0.001     -0.003      0.005     -0.003      0.000      0.001\n",
      "|007>     -0.004      0.001     -0.001     -0.000     -0.001     -0.000     -0.001      0.000\n",
      "\n",
      "\n"
     ]
    }
   ],
   "source": [
    "print_density_matrix(rho_target,\"Target density matrix:\",True)\n",
    "print_density_matrix(rho_qst,\"Reconstructed density matrix:\",True)"
   ]
  },
  {
   "cell_type": "code",
   "execution_count": 31,
   "id": "5cecfdec",
   "metadata": {},
   "outputs": [
    {
     "name": "stdout",
     "output_type": "stream",
     "text": [
      "Trace distance between target and reconstructed state: 0.03\n"
     ]
    }
   ],
   "source": [
    "trace_distance = get_trace_distance(rho_target, rho_qst)\n",
    "print(\"Trace distance between target and reconstructed state: {:2.2f}\".format(trace_distance))"
   ]
  },
  {
   "cell_type": "markdown",
   "id": "f696c062",
   "metadata": {},
   "source": [
    "As we can see, the trace distance between reconstructed and target density matrix is close to $0$; increasing number of classical shadows shots will improve the reconstruction quality."
   ]
  }
 ],
 "metadata": {
  "authors": [
   {
    "name": "Marcin Płodzień"
   }
  ],
  "kernelspec": {
   "display_name": "Python 3 (ipykernel)",
   "language": "python",
   "name": "python3"
  },
  "language_info": {
   "codemirror_mode": {
    "name": "ipython",
    "version": 3
   },
   "file_extension": ".py",
   "mimetype": "text/x-python",
   "name": "python",
   "nbconvert_exporter": "python",
   "pygments_lexer": "ipython3",
   "version": "3.11.5"
  },
  "title": "Quantum State Tomography with Classical Shadows. Implementation from scratch."
 },
 "nbformat": 4,
 "nbformat_minor": 5
}
